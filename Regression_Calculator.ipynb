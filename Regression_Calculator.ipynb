{
 "cells": [
  {
   "cell_type": "code",
   "execution_count": 1,
   "id": "63db1d1d",
   "metadata": {},
   "outputs": [],
   "source": [
    "import pandas as pd\n",
    "import numpy as np\n",
    "from scipy import stats\n",
    "import matplotlib.pyplot as plt \n",
    "\n",
    "def linRegCalc(df):\n",
    "    #drop missing values\n",
    "    df.dropna(axis=0,inplace=True)\n",
    "    \n",
    "    #create x, y arrays based on df input\n",
    "    x = df.iloc[:, 0:2]\n",
    "    x = np.hstack([np.ones((len(x),1)), x])\n",
    "    y = np.array(df.iloc[:,2:3].values)\n",
    "    \n",
    "    \n",
    "    #beta = (X'X)^-1X'y\n",
    "    beta = np.linalg.inv(x.T@x)@x.T@y\n",
    "    \n",
    "    #error term \n",
    "     #rows\n",
    "    n = len(y)\n",
    "     #columns\n",
    "    k = len(x[0]) \n",
    "    \n",
    "    e = y-(x@beta) \n",
    "    \n",
    "    sigmasqr = (e.T@e)/(n-k-1)\n",
    "    \n",
    "    #var = sigma^2 (X'X)^-1\n",
    "    variance = sigmasqr * np.linalg.inv(x.T@x) \n",
    "    StdError = np.sqrt(np.diag(variance)).reshape(3,1)   \n",
    "    \n",
    "    #confidence interval\n",
    "    #t stats --- two-tailed alpha= 0.05\n",
    "    t = stats.t.ppf(.975, n-k-1) \n",
    "    lowerCI = beta - StdError*t \n",
    "    upperCI = beta + StdError*t\n",
    "   \n",
    "    CI = np.hstack([lowerCI, upperCI]) \n",
    "    \n",
    "    #results \n",
    "    results = pd.DataFrame(np.hstack([beta,StdError,CI,]), \n",
    "                          columns=['Coefficient', 'Std. Err.', 'Lower Confidance Interval','Upper Confidance Interval'])\n",
    "    results.rename(index={1: \"at least bachelors degree\", 2: \"gov.expenditure on education\"}, inplace=True)\n",
    "    \n",
    "    xval = np.array(df.iloc[:, 1:2].values)\n",
    "    yval = np.array(df.iloc[:,2:3].values)\n",
    "    cval = np.array(df.iloc[:, 0:1].values)\n",
    "    \n",
    "    #plotting\n",
    "    plt.plot(xval,yval,'ob')\n",
    "    plt.plot(cval,yval,'-r')\n",
    "    plt.xlabel(\"at least bachelors degree\")\n",
    "    plt.ylabel(\"Female share of employment in senior and middle management\")\n",
    "    plt.savefig('regression_plot.jpg')\n",
    "    plt.show()\n",
    "   \n",
    "    \n",
    "    return(results)"
   ]
  },
  {
   "cell_type": "code",
   "execution_count": null,
   "id": "6184cf17",
   "metadata": {},
   "outputs": [],
   "source": []
  },
  {
   "cell_type": "code",
   "execution_count": null,
   "id": "286c7649",
   "metadata": {},
   "outputs": [],
   "source": []
  },
  {
   "cell_type": "code",
   "execution_count": null,
   "id": "52875aea",
   "metadata": {},
   "outputs": [],
   "source": []
  }
 ],
 "metadata": {
  "kernelspec": {
   "display_name": "Python 3",
   "language": "python",
   "name": "python3"
  },
  "language_info": {
   "codemirror_mode": {
    "name": "ipython",
    "version": 3
   },
   "file_extension": ".py",
   "mimetype": "text/x-python",
   "name": "python",
   "nbconvert_exporter": "python",
   "pygments_lexer": "ipython3",
   "version": "3.8.8"
  }
 },
 "nbformat": 4,
 "nbformat_minor": 5
}
