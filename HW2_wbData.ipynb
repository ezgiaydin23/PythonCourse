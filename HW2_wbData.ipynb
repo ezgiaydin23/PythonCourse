{
 "cells": [
  {
   "cell_type": "code",
   "execution_count": 1,
   "id": "0bfd8fc5",
   "metadata": {},
   "outputs": [
    {
     "name": "stdout",
     "output_type": "stream",
     "text": [
      "Requirement already satisfied: wbdata in c:\\users\\ezgi\\anaconda3\\lib\\site-packages (0.3.0)\n",
      "Requirement already satisfied: requests>=2.0 in c:\\users\\ezgi\\anaconda3\\lib\\site-packages (from wbdata) (2.25.1)\n",
      "Requirement already satisfied: tabulate>=0.8.5 in c:\\users\\ezgi\\anaconda3\\lib\\site-packages (from wbdata) (0.8.9)\n",
      "Requirement already satisfied: decorator>=4.0 in c:\\users\\ezgi\\anaconda3\\lib\\site-packages (from wbdata) (5.0.6)\n",
      "Requirement already satisfied: appdirs<2.0,>=1.4 in c:\\users\\ezgi\\anaconda3\\lib\\site-packages (from wbdata) (1.4.4)\n",
      "Requirement already satisfied: idna<3,>=2.5 in c:\\users\\ezgi\\anaconda3\\lib\\site-packages (from requests>=2.0->wbdata) (2.10)\n",
      "Requirement already satisfied: urllib3<1.27,>=1.21.1 in c:\\users\\ezgi\\anaconda3\\lib\\site-packages (from requests>=2.0->wbdata) (1.26.4)\n",
      "Requirement already satisfied: chardet<5,>=3.0.2 in c:\\users\\ezgi\\anaconda3\\lib\\site-packages (from requests>=2.0->wbdata) (4.0.0)\n",
      "Requirement already satisfied: certifi>=2017.4.17 in c:\\users\\ezgi\\anaconda3\\lib\\site-packages (from requests>=2.0->wbdata) (2020.12.5)\n",
      "Note: you may need to restart the kernel to use updated packages.\n"
     ]
    }
   ],
   "source": [
    "pip install wbdata --upgrade"
   ]
  },
  {
   "cell_type": "code",
   "execution_count": 2,
   "id": "dcf7ab98",
   "metadata": {},
   "outputs": [],
   "source": [
    "import wbdata\n",
    "import datetime"
   ]
  },
  {
   "cell_type": "code",
   "execution_count": 3,
   "id": "ff3d5eb4",
   "metadata": {},
   "outputs": [
    {
     "data": {
      "text/plain": [
       "id    value\n",
       "----  -------------------\n",
       "HIC   High income\n",
       "INX   Not classified\n",
       "LIC   Low income\n",
       "LMC   Lower middle income\n",
       "LMY   Low & middle income\n",
       "MIC   Middle income\n",
       "UMC   Upper middle income"
      ]
     },
     "execution_count": 3,
     "metadata": {},
     "output_type": "execute_result"
    }
   ],
   "source": [
    "wbdata.get_incomelevel()"
   ]
  },
  {
   "cell_type": "code",
   "execution_count": 4,
   "id": "17f78258",
   "metadata": {
    "scrolled": true
   },
   "outputs": [
    {
     "data": {
      "text/plain": [
       "id                 name\n",
       "-----------------  --------------------------------------------------------------\n",
       "SL.EMP.SMGT.FE.ZS  Female share of employment in senior and middle management (%)"
      ]
     },
     "execution_count": 4,
     "metadata": {},
     "output_type": "execute_result"
    }
   ],
   "source": [
    "wbdata.search_indicators('UIS.EA.6T8.AG25T99.F') \n",
    "wbdata.search_indicators('SE.XPD.TOTL.GD.ZS') \n",
    "wbdata.search_indicators('Female share of employment in senior and middle management')"
   ]
  },
  {
   "cell_type": "raw",
   "id": "cb6e4814",
   "metadata": {},
   "source": [
    "#SE.XPD.TOTL.GB.ZS      - (control) gov.expenditure on education\n",
    "#SL.EMP.SMGT.FE.ZS      - (dependent)Female share of employment in senior and middle management (%)\n",
    "#UIS.EA.6T8.AG25T99.F   - (independent) at least bachelors degree"
   ]
  },
  {
   "cell_type": "code",
   "execution_count": 5,
   "id": "a1818532",
   "metadata": {},
   "outputs": [
    {
     "data": {
      "text/plain": [
       "Index(['GDPPC', 'Government expenditure on education',\n",
       "       'Female share of employment in senior and middle management'],\n",
       "      dtype='object')"
      ]
     },
     "execution_count": 5,
     "metadata": {},
     "output_type": "execute_result"
    }
   ],
   "source": [
    "data_date = datetime.datetime(2000, 1, 1), datetime.datetime(2021, 1, 1)\n",
    "indicators = {'UIS.EA.6T8.AG25T99.F':'GDPPC','SE.XPD.TOTL.GD.ZS':'Government expenditure on education','SL.EMP.SMGT.FE.ZS':'Female share of employment in senior and middle management'}\n",
    "countries = [i['id'] for i in wbdata.get_country(incomelevel=\"HIC\")] \n",
    "df = wbdata.get_dataframe(indicators, country=countries,convert_date = True, data_date=data_date)\n",
    "\n",
    "df.to_csv('wbdata.csv')\n",
    "df.describe()\n",
    "df.columns\n"
   ]
  },
  {
   "cell_type": "code",
   "execution_count": 6,
   "id": "7cfaa9f0",
   "metadata": {},
   "outputs": [
    {
     "ename": "ModuleNotFoundError",
     "evalue": "No module named 'Regression_Calculator'",
     "output_type": "error",
     "traceback": [
      "\u001b[1;31m---------------------------------------------------------------------------\u001b[0m",
      "\u001b[1;31mModuleNotFoundError\u001b[0m                       Traceback (most recent call last)",
      "\u001b[1;32m<ipython-input-6-f82e55a7135c>\u001b[0m in \u001b[0;36m<module>\u001b[1;34m\u001b[0m\n\u001b[1;32m----> 1\u001b[1;33m \u001b[1;32mfrom\u001b[0m \u001b[0mRegression_Calculator\u001b[0m \u001b[1;32mimport\u001b[0m \u001b[0mlinRegCalc\u001b[0m\u001b[1;33m\u001b[0m\u001b[1;33m\u001b[0m\u001b[0m\n\u001b[0m\u001b[0;32m      2\u001b[0m \u001b[0mlinRegCalc\u001b[0m\u001b[1;33m(\u001b[0m\u001b[0mdf\u001b[0m\u001b[1;33m)\u001b[0m\u001b[1;33m\u001b[0m\u001b[1;33m\u001b[0m\u001b[0m\n",
      "\u001b[1;31mModuleNotFoundError\u001b[0m: No module named 'Regression_Calculator'"
     ]
    }
   ],
   "source": [
    "from Regression_Calculator import linRegCalc\n",
    "linRegCalc(df)"
   ]
  },
  {
   "cell_type": "code",
   "execution_count": null,
   "id": "29e59cec",
   "metadata": {},
   "outputs": [],
   "source": []
  }
 ],
 "metadata": {
  "kernelspec": {
   "display_name": "Python 3",
   "language": "python",
   "name": "python3"
  },
  "language_info": {
   "codemirror_mode": {
    "name": "ipython",
    "version": 3
   },
   "file_extension": ".py",
   "mimetype": "text/x-python",
   "name": "python",
   "nbconvert_exporter": "python",
   "pygments_lexer": "ipython3",
   "version": "3.8.8"
  }
 },
 "nbformat": 4,
 "nbformat_minor": 5
}
