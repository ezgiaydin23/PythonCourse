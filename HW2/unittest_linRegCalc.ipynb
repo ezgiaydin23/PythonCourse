{
 "cells": [
  {
   "cell_type": "code",
   "execution_count": 6,
   "id": "468ec491",
   "metadata": {},
   "outputs": [
    {
     "name": "stderr",
     "output_type": "stream",
     "text": [
      "E\n",
      "======================================================================\n",
      "ERROR: C:\\Users\\Ezgi\\AppData\\Roaming\\jupyter\\runtime\\kernel-1e02b567-3995-4a5a-ae86-cfa33a0921a3 (unittest.loader._FailedTest)\n",
      "----------------------------------------------------------------------\n",
      "AttributeError: module '__main__' has no attribute 'C:\\Users\\Ezgi\\AppData\\Roaming\\jupyter\\runtime\\kernel-1e02b567-3995-4a5a-ae86-cfa33a0921a3'\n",
      "\n",
      "----------------------------------------------------------------------\n",
      "Ran 1 test in 0.002s\n",
      "\n",
      "FAILED (errors=1)\n"
     ]
    },
    {
     "ename": "SystemExit",
     "evalue": "True",
     "output_type": "error",
     "traceback": [
      "An exception has occurred, use %tb to see the full traceback.\n",
      "\u001b[1;31mSystemExit\u001b[0m\u001b[1;31m:\u001b[0m True\n"
     ]
    },
    {
     "name": "stderr",
     "output_type": "stream",
     "text": [
      "C:\\Users\\Ezgi\\Anaconda3\\lib\\site-packages\\IPython\\core\\interactiveshell.py:3445: UserWarning: To exit: use 'exit', 'quit', or Ctrl-D.\n",
      "  warn(\"To exit: use 'exit', 'quit', or Ctrl-D.\", stacklevel=1)\n"
     ]
    }
   ],
   "source": [
    "from Regression_Calculator_PY import linRegCalc\n",
    "import unittest\n",
    "\n",
    "class linRegCalc_function_test(unittest.TestCase):\n",
    "\n",
    "    def if_array_test(self):\n",
    "        if type(x) is np.ndarray:\n",
    "            pass\n",
    "        else:\n",
    "            raise TypeError(\"Must be NumPy array or ELSE!\")\n",
    "\n",
    "        if type(y) is np.ndarray:\n",
    "            pass\n",
    "        else:\n",
    "            raise TypeError(\"What did I say? Must be NumPy array dude.\")\n",
    "\n",
    "    def dimension_match_test(self):\n",
    "        if x.shape[0] != y.shape[0]:\n",
    "            raise CustomError(\"Well done, shape don't match.\")\n",
    "            \n",
    "    def inputType_Test(self):\n",
    "        if type(x) == str(x):\n",
    "            raise TypeError('This func cannot handle strings')\n",
    "        \n",
    "        if type(y) == str(x):\n",
    "            raise TypeError('This func cannot handle strings')\n",
    "            \n",
    "        if type(z) == str(x):\n",
    "            raise TypeError('This func cannot handle strings')\n",
    "    \n",
    "if __name__ == '__main__':\n",
    "  unittest.main()"
   ]
  },
  {
   "cell_type": "code",
   "execution_count": null,
   "id": "144a36df",
   "metadata": {},
   "outputs": [],
   "source": []
  },
  {
   "cell_type": "code",
   "execution_count": null,
   "id": "2450dd0a",
   "metadata": {},
   "outputs": [],
   "source": []
  }
 ],
 "metadata": {
  "kernelspec": {
   "display_name": "Python 3",
   "language": "python",
   "name": "python3"
  },
  "language_info": {
   "codemirror_mode": {
    "name": "ipython",
    "version": 3
   },
   "file_extension": ".py",
   "mimetype": "text/x-python",
   "name": "python",
   "nbconvert_exporter": "python",
   "pygments_lexer": "ipython3",
   "version": "3.8.8"
  }
 },
 "nbformat": 4,
 "nbformat_minor": 5
}
